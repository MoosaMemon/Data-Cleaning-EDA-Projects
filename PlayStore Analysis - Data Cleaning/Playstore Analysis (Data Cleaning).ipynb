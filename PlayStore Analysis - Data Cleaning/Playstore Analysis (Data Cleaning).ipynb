{
 "cells": [
  {
   "cell_type": "code",
   "execution_count": 1,
   "id": "497ce05d-5175-44ab-99bb-d0b320649cee",
   "metadata": {},
   "outputs": [],
   "source": [
    "# https://www.kaggle.com/datasets/madhav000/playstore-analysis"
   ]
  },
  {
   "cell_type": "code",
   "execution_count": 2,
   "id": "1f06e358-5b13-412b-bed1-473f3948a5f6",
   "metadata": {},
   "outputs": [],
   "source": [
    "import pandas as pd\n",
    "import numpy as np\n",
    "import matplotlib.pyplot as plt\n",
    "import seaborn as sns"
   ]
  },
  {
   "cell_type": "code",
   "execution_count": 3,
   "id": "ff62787f-8c02-4c9e-b70c-71b5dbadc1fd",
   "metadata": {},
   "outputs": [],
   "source": [
    "df = pd.read_csv(\"googleplaystore.csv\")"
   ]
  },
  {
   "cell_type": "code",
   "execution_count": 4,
   "id": "6735f7c0-6ace-4d01-b67f-c9813db7ce99",
   "metadata": {},
   "outputs": [
    {
     "data": {
      "text/html": [
       "<div>\n",
       "<style scoped>\n",
       "    .dataframe tbody tr th:only-of-type {\n",
       "        vertical-align: middle;\n",
       "    }\n",
       "\n",
       "    .dataframe tbody tr th {\n",
       "        vertical-align: top;\n",
       "    }\n",
       "\n",
       "    .dataframe thead th {\n",
       "        text-align: right;\n",
       "    }\n",
       "</style>\n",
       "<table border=\"1\" class=\"dataframe\">\n",
       "  <thead>\n",
       "    <tr style=\"text-align: right;\">\n",
       "      <th></th>\n",
       "      <th>Rating</th>\n",
       "      <th>App</th>\n",
       "      <th>Category</th>\n",
       "      <th>Reviews</th>\n",
       "      <th>Size</th>\n",
       "      <th>Installs</th>\n",
       "      <th>Type</th>\n",
       "      <th>Price</th>\n",
       "      <th>Content Rating</th>\n",
       "      <th>Genres</th>\n",
       "      <th>Last Updated</th>\n",
       "      <th>Current Ver</th>\n",
       "      <th>Android Ver</th>\n",
       "    </tr>\n",
       "  </thead>\n",
       "  <tbody>\n",
       "    <tr>\n",
       "      <th>0</th>\n",
       "      <td>4.1</td>\n",
       "      <td>Photo Editor &amp; Candy Camera &amp; Grid &amp; ScrapBook</td>\n",
       "      <td>ART_AND_DESIGN</td>\n",
       "      <td>159</td>\n",
       "      <td>19M</td>\n",
       "      <td>10,000+</td>\n",
       "      <td>Free</td>\n",
       "      <td>0</td>\n",
       "      <td>Everyone</td>\n",
       "      <td>Art &amp; Design</td>\n",
       "      <td>07-Jan-18</td>\n",
       "      <td>1.0.0</td>\n",
       "      <td>4.0.3 and up</td>\n",
       "    </tr>\n",
       "    <tr>\n",
       "      <th>1</th>\n",
       "      <td>3.9</td>\n",
       "      <td>Coloring book moana</td>\n",
       "      <td>ART_AND_DESIGN</td>\n",
       "      <td>967</td>\n",
       "      <td>14M</td>\n",
       "      <td>500,000+</td>\n",
       "      <td>Free</td>\n",
       "      <td>0</td>\n",
       "      <td>Everyone</td>\n",
       "      <td>Art &amp; Design;Pretend Play</td>\n",
       "      <td>15-Jan-18</td>\n",
       "      <td>2.0.0</td>\n",
       "      <td>4.0.3 and up</td>\n",
       "    </tr>\n",
       "    <tr>\n",
       "      <th>2</th>\n",
       "      <td>4.7</td>\n",
       "      <td>U Launcher Lite – FREE Live Cool Themes, Hide ...</td>\n",
       "      <td>ART_AND_DESIGN</td>\n",
       "      <td>87510</td>\n",
       "      <td>8.7M</td>\n",
       "      <td>5,000,000+</td>\n",
       "      <td>Free</td>\n",
       "      <td>0</td>\n",
       "      <td>Everyone</td>\n",
       "      <td>Art &amp; Design</td>\n",
       "      <td>01-Aug-18</td>\n",
       "      <td>1.2.4</td>\n",
       "      <td>4.0.3 and up</td>\n",
       "    </tr>\n",
       "    <tr>\n",
       "      <th>3</th>\n",
       "      <td>4.5</td>\n",
       "      <td>Sketch - Draw &amp; Paint</td>\n",
       "      <td>ART_AND_DESIGN</td>\n",
       "      <td>215644</td>\n",
       "      <td>25M</td>\n",
       "      <td>50,000,000+</td>\n",
       "      <td>Free</td>\n",
       "      <td>0</td>\n",
       "      <td>Teen</td>\n",
       "      <td>Art &amp; Design</td>\n",
       "      <td>08-Jun-18</td>\n",
       "      <td>Varies with device</td>\n",
       "      <td>4.2 and up</td>\n",
       "    </tr>\n",
       "    <tr>\n",
       "      <th>4</th>\n",
       "      <td>4.3</td>\n",
       "      <td>Pixel Draw - Number Art Coloring Book</td>\n",
       "      <td>ART_AND_DESIGN</td>\n",
       "      <td>967</td>\n",
       "      <td>2.8M</td>\n",
       "      <td>100,000+</td>\n",
       "      <td>Free</td>\n",
       "      <td>0</td>\n",
       "      <td>Everyone</td>\n",
       "      <td>Art &amp; Design;Creativity</td>\n",
       "      <td>20-Jun-18</td>\n",
       "      <td>1.1</td>\n",
       "      <td>4.4 and up</td>\n",
       "    </tr>\n",
       "  </tbody>\n",
       "</table>\n",
       "</div>"
      ],
      "text/plain": [
       "   Rating                                                App        Category  \\\n",
       "0     4.1     Photo Editor & Candy Camera & Grid & ScrapBook  ART_AND_DESIGN   \n",
       "1     3.9                                Coloring book moana  ART_AND_DESIGN   \n",
       "2     4.7  U Launcher Lite – FREE Live Cool Themes, Hide ...  ART_AND_DESIGN   \n",
       "3     4.5                              Sketch - Draw & Paint  ART_AND_DESIGN   \n",
       "4     4.3              Pixel Draw - Number Art Coloring Book  ART_AND_DESIGN   \n",
       "\n",
       "   Reviews  Size     Installs  Type Price Content Rating  \\\n",
       "0      159   19M      10,000+  Free     0       Everyone   \n",
       "1      967   14M     500,000+  Free     0       Everyone   \n",
       "2    87510  8.7M   5,000,000+  Free     0       Everyone   \n",
       "3   215644   25M  50,000,000+  Free     0           Teen   \n",
       "4      967  2.8M     100,000+  Free     0       Everyone   \n",
       "\n",
       "                      Genres Last Updated         Current Ver   Android Ver  \n",
       "0               Art & Design    07-Jan-18               1.0.0  4.0.3 and up  \n",
       "1  Art & Design;Pretend Play    15-Jan-18               2.0.0  4.0.3 and up  \n",
       "2               Art & Design    01-Aug-18               1.2.4  4.0.3 and up  \n",
       "3               Art & Design    08-Jun-18  Varies with device    4.2 and up  \n",
       "4    Art & Design;Creativity    20-Jun-18                 1.1    4.4 and up  "
      ]
     },
     "execution_count": 4,
     "metadata": {},
     "output_type": "execute_result"
    }
   ],
   "source": [
    "df.head()"
   ]
  },
  {
   "cell_type": "code",
   "execution_count": 5,
   "id": "717d1b06-18da-47b8-a8b3-50f6bbb1d535",
   "metadata": {},
   "outputs": [
    {
     "name": "stdout",
     "output_type": "stream",
     "text": [
      "<class 'pandas.core.frame.DataFrame'>\n",
      "RangeIndex: 10840 entries, 0 to 10839\n",
      "Data columns (total 13 columns):\n",
      " #   Column          Non-Null Count  Dtype  \n",
      "---  ------          --------------  -----  \n",
      " 0   Rating          9366 non-null   float64\n",
      " 1   App             10840 non-null  object \n",
      " 2   Category        10840 non-null  object \n",
      " 3   Reviews         10840 non-null  int64  \n",
      " 4   Size            10840 non-null  object \n",
      " 5   Installs        10840 non-null  object \n",
      " 6   Type            10839 non-null  object \n",
      " 7   Price           10840 non-null  object \n",
      " 8   Content Rating  10840 non-null  object \n",
      " 9   Genres          10840 non-null  object \n",
      " 10  Last Updated    10840 non-null  object \n",
      " 11  Current Ver     10832 non-null  object \n",
      " 12  Android Ver     10838 non-null  object \n",
      "dtypes: float64(1), int64(1), object(11)\n",
      "memory usage: 1.1+ MB\n"
     ]
    }
   ],
   "source": [
    "df.info()"
   ]
  },
  {
   "cell_type": "code",
   "execution_count": 6,
   "id": "bf51c28c-33ca-4081-be6f-0ab8d90d47bb",
   "metadata": {},
   "outputs": [
    {
     "name": "stdout",
     "output_type": "stream",
     "text": [
      "<class 'pandas.core.frame.DataFrame'>\n",
      "Index: 9366 entries, 0 to 10839\n",
      "Data columns (total 13 columns):\n",
      " #   Column          Non-Null Count  Dtype  \n",
      "---  ------          --------------  -----  \n",
      " 0   Rating          9366 non-null   float64\n",
      " 1   App             9366 non-null   object \n",
      " 2   Category        9366 non-null   object \n",
      " 3   Reviews         9366 non-null   int64  \n",
      " 4   Size            9366 non-null   object \n",
      " 5   Installs        9366 non-null   object \n",
      " 6   Type            9366 non-null   object \n",
      " 7   Price           9366 non-null   object \n",
      " 8   Content Rating  9366 non-null   object \n",
      " 9   Genres          9366 non-null   object \n",
      " 10  Last Updated    9366 non-null   object \n",
      " 11  Current Ver     9362 non-null   object \n",
      " 12  Android Ver     9364 non-null   object \n",
      "dtypes: float64(1), int64(1), object(11)\n",
      "memory usage: 1.0+ MB\n"
     ]
    }
   ],
   "source": [
    "# dropping the rows will null values\n",
    "df.dropna(subset=\"Rating\", inplace=True)\n",
    "df.info()"
   ]
  },
  {
   "cell_type": "code",
   "execution_count": 8,
   "id": "297f7082-5c52-4acb-b0c0-b4145d87547d",
   "metadata": {},
   "outputs": [
    {
     "data": {
      "text/plain": [
       "Reviews\n",
       "2         83\n",
       "3         78\n",
       "4         74\n",
       "5         74\n",
       "1         67\n",
       "          ..\n",
       "49657      1\n",
       "41420      1\n",
       "7146       1\n",
       "44706      1\n",
       "398307     1\n",
       "Name: count, Length: 5992, dtype: int64"
      ]
     },
     "execution_count": 8,
     "metadata": {},
     "output_type": "execute_result"
    }
   ],
   "source": [
    "df[\"Reviews\"].value_counts()"
   ]
  },
  {
   "cell_type": "code",
   "execution_count": 14,
   "id": "613a23a4-9871-4a0f-86dd-e421f17c3725",
   "metadata": {},
   "outputs": [],
   "source": [
    "df[\"Reviews\"] = pd.to_numeric(df[\"Reviews\"])"
   ]
  },
  {
   "cell_type": "code",
   "execution_count": 15,
   "id": "d55768f0-4636-4865-bd35-a09054b99e0e",
   "metadata": {},
   "outputs": [
    {
     "name": "stdout",
     "output_type": "stream",
     "text": [
      "<class 'pandas.core.frame.DataFrame'>\n",
      "Index: 9366 entries, 0 to 10839\n",
      "Data columns (total 13 columns):\n",
      " #   Column          Non-Null Count  Dtype  \n",
      "---  ------          --------------  -----  \n",
      " 0   Rating          9366 non-null   float64\n",
      " 1   App             9366 non-null   object \n",
      " 2   Category        9366 non-null   object \n",
      " 3   Reviews         9366 non-null   int64  \n",
      " 4   Size            9366 non-null   object \n",
      " 5   Installs        9366 non-null   object \n",
      " 6   Type            9366 non-null   object \n",
      " 7   Price           9366 non-null   object \n",
      " 8   Content Rating  9366 non-null   object \n",
      " 9   Genres          9366 non-null   object \n",
      " 10  Last Updated    9366 non-null   object \n",
      " 11  Current Ver     9362 non-null   object \n",
      " 12  Android Ver     9364 non-null   object \n",
      "dtypes: float64(1), int64(1), object(11)\n",
      "memory usage: 1.0+ MB\n"
     ]
    }
   ],
   "source": [
    "df.info()"
   ]
  },
  {
   "cell_type": "code",
   "execution_count": 20,
   "id": "34c7a58c-4148-452c-a168-b50c39efae9a",
   "metadata": {},
   "outputs": [
    {
     "data": {
      "text/plain": [
       "Size\n",
       "Varies with device    1637\n",
       "14M                    166\n",
       "12M                    161\n",
       "11M                    160\n",
       "15M                    159\n",
       "                      ... \n",
       "383k                     1\n",
       "454k                     1\n",
       "812k                     1\n",
       "442k                     1\n",
       "619k                     1\n",
       "Name: count, Length: 414, dtype: int64"
      ]
     },
     "execution_count": 20,
     "metadata": {},
     "output_type": "execute_result"
    }
   ],
   "source": [
    "df[\"Size\"].value_counts()\n",
    "# df[\"Size\"].unique()"
   ]
  },
  {
   "cell_type": "code",
   "execution_count": 39,
   "id": "725d88e3-cae4-4eb9-a948-06789126cd41",
   "metadata": {},
   "outputs": [],
   "source": [
    "df[\"Size\"] = df[\"Size\"].replace(\"M\", \"e3\", regex=True) # we will use e3 for now because when we later when we convert this in float, it will replace e3 with 3 0's\n",
    "df[\"Size\"] = df[\"Size\"].replace(\"k\", \"\", regex=True)"
   ]
  },
  {
   "cell_type": "code",
   "execution_count": 40,
   "id": "dd6bf465-abf3-400f-aaf6-10a50afe898e",
   "metadata": {},
   "outputs": [
    {
     "data": {
      "text/plain": [
       "array(['19000', '14000', '8.7000', '25000', '2.8000', '5.6000', '29000',\n",
       "       '33000', '3.1000', '28000', '12000', '20000', '21000', '37000',\n",
       "       '2.7000', '5.5000', '17000', '39000', '31000', '4.2000', '23000',\n",
       "       '6.0000', '6.1000', '4.6000', '9.2000', '5.2000', '11000', '24000',\n",
       "       '9.4000', '15000', '10000', '1.2000', '26000', '8.0000', '7.9000',\n",
       "       '56000', '57000', '35000', '54000', '201', '3.6000', '5.7000',\n",
       "       '8.6000', '2.4000', '27000', '2.5000', '7.0000', '16000', '3.4000',\n",
       "       '8.9000', '3.9000', '2.9000', '38000', '32000', '5.4000', '18000',\n",
       "       '1.1000', '2.2000', '4.5000', '9.8000', '52000', '9.0000',\n",
       "       '6.7000', '30000', '2.6000', '7.1000', '22000', '6.4000', '3.2000',\n",
       "       '8.2000', '4.9000', '9.5000', '5.0000', '5.9000', '13000', '73000',\n",
       "       '6.8000', '3.5000', '4.0000', '2.3000', '2.1000', '42000',\n",
       "       '9.1000', '55000', '23', '7.3000', '6.5000', '1.5000', '7.5000',\n",
       "       '51000', '41000', '48000', '8.5000', '46000', '8.3000', '4.3000',\n",
       "       '4.7000', '3.3000', '40000', '7.8000', '8.8000', '6.6000',\n",
       "       '5.1000', '61000', '66000', '79', '8.4000', '3.7000', '118',\n",
       "       '44000', '695', '1.6000', '6.2000', '53000', '1.4000', '3.0000',\n",
       "       '7.2000', '5.8000', '3.8000', '9.6000', '45000', '63000', '49000',\n",
       "       '77000', '4.4000', '70000', '9.3000', '8.1000', '36000', '6.9000',\n",
       "       '7.4000', '84000', '97000', '2.0000', '1.9000', '1.8000', '5.3000',\n",
       "       '47000', '556', '526', '76000', '7.6000', '59000', '9.7000',\n",
       "       '78000', '72000', '43000', '7.7000', '6.3000', '334', '93000',\n",
       "       '65000', '79000', '100000', '58000', '50000', '68000', '64000',\n",
       "       '34000', '67000', '60000', '94000', '9.9000', '232', '99000',\n",
       "       '624', '95000', '8.5', '41', '292', '11', '80000', '1.7000',\n",
       "       '10.0000', '74000', '62000', '69000', '75000', '98000', '85000',\n",
       "       '82000', '96000', '87000', '71000', '86000', '91000', '81000',\n",
       "       '92000', '83000', '88000', '704', '862', '899', '378', '4.8000',\n",
       "       '266', '375', '1.3000', '975', '980', '4.1000', '89000', '696',\n",
       "       '544', '525', '920', '779', '853', '720', '713', '772', '318',\n",
       "       '58', '241', '196', '857', '51', '953', '865', '251', '930', '540',\n",
       "       '313', '746', '203', '26', '314', '239', '371', '220', '730',\n",
       "       '756', '91', '293', '17', '74', '14', '317', '78', '924', '818',\n",
       "       '81', '939', '169', '45', '965', '90000', '545', '61', '283',\n",
       "       '655', '714', '93', '872', '121', '322', '976', '206', '954',\n",
       "       '444', '717', '210', '609', '308', '306', '175', '350', '383',\n",
       "       '454', '1.0000', '70', '812', '442', '842', '417', '412', '459',\n",
       "       '478', '335', '782', '721', '430', '429', '192', '460', '728',\n",
       "       '496', '816', '414', '506', '887', '613', '778', '683', '592',\n",
       "       '186', '840', '647', '373', '437', '598', '716', '585', '982',\n",
       "       '219', '55', '323', '691', '511', '951', '963', '25', '554', '351',\n",
       "       '27', '82', '208', '551', '29', '103', '116', '153', '209', '499',\n",
       "       '173', '597', '809', '122', '411', '400', '801', '787', '50',\n",
       "       '643', '986', '516', '837', '780', '20', '498', '600', '656',\n",
       "       '221', '228', '176', '34', '259', '164', '458', '629', '28', '288',\n",
       "       '775', '785', '636', '916', '994', '309', '485', '914', '903',\n",
       "       '608', '500', '54', '562', '847', '948', '811', '270', '48', '523',\n",
       "       '784', '280', '24', '892', '154', '18', '33', '860', '364', '387',\n",
       "       '626', '161', '879', '39', '170', '141', '160', '144', '143',\n",
       "       '190', '376', '193', '473', '246', '73', '253', '957', '420', '72',\n",
       "       '404', '470', '226', '240', '89', '234', '257', '861', '467',\n",
       "       '676', '552', '582', '619'], dtype=object)"
      ]
     },
     "execution_count": 40,
     "metadata": {},
     "output_type": "execute_result"
    }
   ],
   "source": [
    "df[\"Size\"].unique()"
   ]
  },
  {
   "cell_type": "code",
   "execution_count": 41,
   "id": "e8d84fae-665b-413d-a963-4b9e7697213c",
   "metadata": {},
   "outputs": [
    {
     "data": {
      "text/html": [
       "<div>\n",
       "<style scoped>\n",
       "    .dataframe tbody tr th:only-of-type {\n",
       "        vertical-align: middle;\n",
       "    }\n",
       "\n",
       "    .dataframe tbody tr th {\n",
       "        vertical-align: top;\n",
       "    }\n",
       "\n",
       "    .dataframe thead th {\n",
       "        text-align: right;\n",
       "    }\n",
       "</style>\n",
       "<table border=\"1\" class=\"dataframe\">\n",
       "  <thead>\n",
       "    <tr style=\"text-align: right;\">\n",
       "      <th></th>\n",
       "      <th>Rating</th>\n",
       "      <th>App</th>\n",
       "      <th>Category</th>\n",
       "      <th>Reviews</th>\n",
       "      <th>Size</th>\n",
       "      <th>Installs</th>\n",
       "      <th>Type</th>\n",
       "      <th>Price</th>\n",
       "      <th>Content Rating</th>\n",
       "      <th>Genres</th>\n",
       "      <th>Last Updated</th>\n",
       "      <th>Current Ver</th>\n",
       "      <th>Android Ver</th>\n",
       "    </tr>\n",
       "  </thead>\n",
       "  <tbody>\n",
       "    <tr>\n",
       "      <th>0</th>\n",
       "      <td>4.1</td>\n",
       "      <td>Photo Editor &amp; Candy Camera &amp; Grid &amp; ScrapBook</td>\n",
       "      <td>ART_AND_DESIGN</td>\n",
       "      <td>159</td>\n",
       "      <td>19000</td>\n",
       "      <td>10,000+</td>\n",
       "      <td>Free</td>\n",
       "      <td>0</td>\n",
       "      <td>Everyone</td>\n",
       "      <td>Art &amp; Design</td>\n",
       "      <td>07-Jan-18</td>\n",
       "      <td>1.0.0</td>\n",
       "      <td>4.0.3 and up</td>\n",
       "    </tr>\n",
       "    <tr>\n",
       "      <th>1</th>\n",
       "      <td>3.9</td>\n",
       "      <td>Coloring book moana</td>\n",
       "      <td>ART_AND_DESIGN</td>\n",
       "      <td>967</td>\n",
       "      <td>14000</td>\n",
       "      <td>500,000+</td>\n",
       "      <td>Free</td>\n",
       "      <td>0</td>\n",
       "      <td>Everyone</td>\n",
       "      <td>Art &amp; Design;Pretend Play</td>\n",
       "      <td>15-Jan-18</td>\n",
       "      <td>2.0.0</td>\n",
       "      <td>4.0.3 and up</td>\n",
       "    </tr>\n",
       "    <tr>\n",
       "      <th>2</th>\n",
       "      <td>4.7</td>\n",
       "      <td>U Launcher Lite – FREE Live Cool Themes, Hide ...</td>\n",
       "      <td>ART_AND_DESIGN</td>\n",
       "      <td>87510</td>\n",
       "      <td>8.7000</td>\n",
       "      <td>5,000,000+</td>\n",
       "      <td>Free</td>\n",
       "      <td>0</td>\n",
       "      <td>Everyone</td>\n",
       "      <td>Art &amp; Design</td>\n",
       "      <td>01-Aug-18</td>\n",
       "      <td>1.2.4</td>\n",
       "      <td>4.0.3 and up</td>\n",
       "    </tr>\n",
       "    <tr>\n",
       "      <th>3</th>\n",
       "      <td>4.5</td>\n",
       "      <td>Sketch - Draw &amp; Paint</td>\n",
       "      <td>ART_AND_DESIGN</td>\n",
       "      <td>215644</td>\n",
       "      <td>25000</td>\n",
       "      <td>50,000,000+</td>\n",
       "      <td>Free</td>\n",
       "      <td>0</td>\n",
       "      <td>Teen</td>\n",
       "      <td>Art &amp; Design</td>\n",
       "      <td>08-Jun-18</td>\n",
       "      <td>Varies with device</td>\n",
       "      <td>4.2 and up</td>\n",
       "    </tr>\n",
       "    <tr>\n",
       "      <th>4</th>\n",
       "      <td>4.3</td>\n",
       "      <td>Pixel Draw - Number Art Coloring Book</td>\n",
       "      <td>ART_AND_DESIGN</td>\n",
       "      <td>967</td>\n",
       "      <td>2.8000</td>\n",
       "      <td>100,000+</td>\n",
       "      <td>Free</td>\n",
       "      <td>0</td>\n",
       "      <td>Everyone</td>\n",
       "      <td>Art &amp; Design;Creativity</td>\n",
       "      <td>20-Jun-18</td>\n",
       "      <td>1.1</td>\n",
       "      <td>4.4 and up</td>\n",
       "    </tr>\n",
       "    <tr>\n",
       "      <th>...</th>\n",
       "      <td>...</td>\n",
       "      <td>...</td>\n",
       "      <td>...</td>\n",
       "      <td>...</td>\n",
       "      <td>...</td>\n",
       "      <td>...</td>\n",
       "      <td>...</td>\n",
       "      <td>...</td>\n",
       "      <td>...</td>\n",
       "      <td>...</td>\n",
       "      <td>...</td>\n",
       "      <td>...</td>\n",
       "      <td>...</td>\n",
       "    </tr>\n",
       "    <tr>\n",
       "      <th>10832</th>\n",
       "      <td>4.8</td>\n",
       "      <td>Chemin (fr)</td>\n",
       "      <td>BOOKS_AND_REFERENCE</td>\n",
       "      <td>44</td>\n",
       "      <td>619</td>\n",
       "      <td>1,000+</td>\n",
       "      <td>Free</td>\n",
       "      <td>0</td>\n",
       "      <td>Everyone</td>\n",
       "      <td>Books &amp; Reference</td>\n",
       "      <td>23-Mar-14</td>\n",
       "      <td>0.8</td>\n",
       "      <td>2.2 and up</td>\n",
       "    </tr>\n",
       "    <tr>\n",
       "      <th>10833</th>\n",
       "      <td>4.0</td>\n",
       "      <td>FR Calculator</td>\n",
       "      <td>FAMILY</td>\n",
       "      <td>7</td>\n",
       "      <td>2.6000</td>\n",
       "      <td>500+</td>\n",
       "      <td>Free</td>\n",
       "      <td>0</td>\n",
       "      <td>Everyone</td>\n",
       "      <td>Education</td>\n",
       "      <td>18-Jun-17</td>\n",
       "      <td>1.0.0</td>\n",
       "      <td>4.1 and up</td>\n",
       "    </tr>\n",
       "    <tr>\n",
       "      <th>10835</th>\n",
       "      <td>4.5</td>\n",
       "      <td>Sya9a Maroc - FR</td>\n",
       "      <td>FAMILY</td>\n",
       "      <td>38</td>\n",
       "      <td>53000</td>\n",
       "      <td>5,000+</td>\n",
       "      <td>Free</td>\n",
       "      <td>0</td>\n",
       "      <td>Everyone</td>\n",
       "      <td>Education</td>\n",
       "      <td>25-Jul-17</td>\n",
       "      <td>1.48</td>\n",
       "      <td>4.1 and up</td>\n",
       "    </tr>\n",
       "    <tr>\n",
       "      <th>10836</th>\n",
       "      <td>5.0</td>\n",
       "      <td>Fr. Mike Schmitz Audio Teachings</td>\n",
       "      <td>FAMILY</td>\n",
       "      <td>4</td>\n",
       "      <td>3.6000</td>\n",
       "      <td>100+</td>\n",
       "      <td>Free</td>\n",
       "      <td>0</td>\n",
       "      <td>Everyone</td>\n",
       "      <td>Education</td>\n",
       "      <td>06-Jul-18</td>\n",
       "      <td>1</td>\n",
       "      <td>4.1 and up</td>\n",
       "    </tr>\n",
       "    <tr>\n",
       "      <th>10839</th>\n",
       "      <td>4.5</td>\n",
       "      <td>iHoroscope - 2018 Daily Horoscope &amp; Astrology</td>\n",
       "      <td>LIFESTYLE</td>\n",
       "      <td>398307</td>\n",
       "      <td>19000</td>\n",
       "      <td>10,000,000+</td>\n",
       "      <td>Free</td>\n",
       "      <td>0</td>\n",
       "      <td>Everyone</td>\n",
       "      <td>Lifestyle</td>\n",
       "      <td>25-Jul-18</td>\n",
       "      <td>Varies with device</td>\n",
       "      <td>Varies with device</td>\n",
       "    </tr>\n",
       "  </tbody>\n",
       "</table>\n",
       "<p>7729 rows × 13 columns</p>\n",
       "</div>"
      ],
      "text/plain": [
       "       Rating                                                App  \\\n",
       "0         4.1     Photo Editor & Candy Camera & Grid & ScrapBook   \n",
       "1         3.9                                Coloring book moana   \n",
       "2         4.7  U Launcher Lite – FREE Live Cool Themes, Hide ...   \n",
       "3         4.5                              Sketch - Draw & Paint   \n",
       "4         4.3              Pixel Draw - Number Art Coloring Book   \n",
       "...       ...                                                ...   \n",
       "10832     4.8                                        Chemin (fr)   \n",
       "10833     4.0                                      FR Calculator   \n",
       "10835     4.5                                   Sya9a Maroc - FR   \n",
       "10836     5.0                   Fr. Mike Schmitz Audio Teachings   \n",
       "10839     4.5      iHoroscope - 2018 Daily Horoscope & Astrology   \n",
       "\n",
       "                  Category  Reviews    Size     Installs  Type Price  \\\n",
       "0           ART_AND_DESIGN      159   19000      10,000+  Free     0   \n",
       "1           ART_AND_DESIGN      967   14000     500,000+  Free     0   \n",
       "2           ART_AND_DESIGN    87510  8.7000   5,000,000+  Free     0   \n",
       "3           ART_AND_DESIGN   215644   25000  50,000,000+  Free     0   \n",
       "4           ART_AND_DESIGN      967  2.8000     100,000+  Free     0   \n",
       "...                    ...      ...     ...          ...   ...   ...   \n",
       "10832  BOOKS_AND_REFERENCE       44     619       1,000+  Free     0   \n",
       "10833               FAMILY        7  2.6000         500+  Free     0   \n",
       "10835               FAMILY       38   53000       5,000+  Free     0   \n",
       "10836               FAMILY        4  3.6000         100+  Free     0   \n",
       "10839            LIFESTYLE   398307   19000  10,000,000+  Free     0   \n",
       "\n",
       "      Content Rating                     Genres Last Updated  \\\n",
       "0           Everyone               Art & Design    07-Jan-18   \n",
       "1           Everyone  Art & Design;Pretend Play    15-Jan-18   \n",
       "2           Everyone               Art & Design    01-Aug-18   \n",
       "3               Teen               Art & Design    08-Jun-18   \n",
       "4           Everyone    Art & Design;Creativity    20-Jun-18   \n",
       "...              ...                        ...          ...   \n",
       "10832       Everyone          Books & Reference    23-Mar-14   \n",
       "10833       Everyone                  Education    18-Jun-17   \n",
       "10835       Everyone                  Education    25-Jul-17   \n",
       "10836       Everyone                  Education    06-Jul-18   \n",
       "10839       Everyone                  Lifestyle    25-Jul-18   \n",
       "\n",
       "              Current Ver         Android Ver  \n",
       "0                   1.0.0        4.0.3 and up  \n",
       "1                   2.0.0        4.0.3 and up  \n",
       "2                   1.2.4        4.0.3 and up  \n",
       "3      Varies with device          4.2 and up  \n",
       "4                     1.1          4.4 and up  \n",
       "...                   ...                 ...  \n",
       "10832                 0.8          2.2 and up  \n",
       "10833               1.0.0          4.1 and up  \n",
       "10835                1.48          4.1 and up  \n",
       "10836                   1          4.1 and up  \n",
       "10839  Varies with device  Varies with device  \n",
       "\n",
       "[7729 rows x 13 columns]"
      ]
     },
     "execution_count": 41,
     "metadata": {},
     "output_type": "execute_result"
    }
   ],
   "source": [
    "df = df[df[\"Size\"]!=\"Varies with device\"]\n",
    "df"
   ]
  },
  {
   "cell_type": "code",
   "execution_count": 42,
   "id": "fa52c37e-bec3-449d-8263-84fe70c09f64",
   "metadata": {},
   "outputs": [],
   "source": [
    "df[\"Size\"] = pd.to_numeric(df[\"Size\"])"
   ]
  },
  {
   "cell_type": "code",
   "execution_count": 45,
   "id": "16047df0-158e-49d1-af08-1b84e016e72d",
   "metadata": {},
   "outputs": [
    {
     "name": "stdout",
     "output_type": "stream",
     "text": [
      "<class 'pandas.core.frame.DataFrame'>\n",
      "Index: 7729 entries, 0 to 10839\n",
      "Data columns (total 13 columns):\n",
      " #   Column          Non-Null Count  Dtype  \n",
      "---  ------          --------------  -----  \n",
      " 0   Rating          7729 non-null   float64\n",
      " 1   App             7729 non-null   object \n",
      " 2   Category        7729 non-null   object \n",
      " 3   Reviews         7729 non-null   int64  \n",
      " 4   Size            7729 non-null   float64\n",
      " 5   Installs        7729 non-null   object \n",
      " 6   Type            7729 non-null   object \n",
      " 7   Price           7729 non-null   object \n",
      " 8   Content Rating  7729 non-null   object \n",
      " 9   Genres          7729 non-null   object \n",
      " 10  Last Updated    7729 non-null   object \n",
      " 11  Current Ver     7725 non-null   object \n",
      " 12  Android Ver     7727 non-null   object \n",
      "dtypes: float64(2), int64(1), object(10)\n",
      "memory usage: 845.4+ KB\n"
     ]
    }
   ],
   "source": [
    "df.info()"
   ]
  },
  {
   "cell_type": "code",
   "execution_count": 49,
   "id": "e0e89b5d-775c-479f-ae5f-fb57c50197f9",
   "metadata": {},
   "outputs": [
    {
     "data": {
      "text/plain": [
       "array(['10000+', '500000+', '5000000+', '50000000+', '100000+', '50000+',\n",
       "       '1000000+', '10000000+', '5000+', '100000000+', '1000+',\n",
       "       '500000000+', '100+', '500+', '10+', '1000000000+', '5+', '50+',\n",
       "       '1+'], dtype=object)"
      ]
     },
     "execution_count": 49,
     "metadata": {},
     "output_type": "execute_result"
    }
   ],
   "source": [
    "df[\"Installs\"].unique()"
   ]
  },
  {
   "cell_type": "code",
   "execution_count": 55,
   "id": "7fa95f4f-3016-4dd4-99ee-139ef22a63e5",
   "metadata": {},
   "outputs": [],
   "source": [
    "# when working with regular expressions in the replace function, it's important to set regex=True to ensure that the provided patterns are treated as regular expressions rather than plain text."
   ]
  },
  {
   "cell_type": "code",
   "execution_count": 56,
   "id": "119cb3c5-df27-41f4-8ef4-1c8570ed6cac",
   "metadata": {},
   "outputs": [
    {
     "name": "stderr",
     "output_type": "stream",
     "text": [
      "<>:1: SyntaxWarning: invalid escape sequence '\\+'\n",
      "<>:1: SyntaxWarning: invalid escape sequence '\\+'\n",
      "C:\\Users\\notmo\\AppData\\Local\\Temp\\ipykernel_15656\\1177289807.py:1: SyntaxWarning: invalid escape sequence '\\+'\n",
      "  df[\"Installs\"] = df[\"Installs\"].replace({\",\": \"\", \"\\+\": \"\"}, regex=True) # for special symbols like \"+\" pr \"$\", use \"\\\" before them when replacing\n"
     ]
    }
   ],
   "source": [
    "df[\"Installs\"] = df[\"Installs\"].replace({\",\": \"\", \"\\+\": \"\"}, regex=True) # for special symbols like \"+\" pr \"$\", use \"\\\" before them when replacing"
   ]
  },
  {
   "cell_type": "code",
   "execution_count": 57,
   "id": "ec1f1872-366f-4d70-8b7b-086991948ed0",
   "metadata": {},
   "outputs": [
    {
     "data": {
      "text/plain": [
       "array(['10000', '500000', '5000000', '50000000', '100000', '50000',\n",
       "       '1000000', '10000000', '5000', '100000000', '1000', '500000000',\n",
       "       '100', '500', '10', '1000000000', '5', '50', '1'], dtype=object)"
      ]
     },
     "execution_count": 57,
     "metadata": {},
     "output_type": "execute_result"
    }
   ],
   "source": [
    "df[\"Installs\"].unique()"
   ]
  },
  {
   "cell_type": "code",
   "execution_count": 61,
   "id": "a6fb2f3a-c8d4-44ce-be7f-5530e989b126",
   "metadata": {},
   "outputs": [],
   "source": [
    "df[\"Installs\"] = pd.to_numeric(df[\"Installs\"])"
   ]
  },
  {
   "cell_type": "code",
   "execution_count": 62,
   "id": "c1b4c9d9-7026-4ae1-a38e-18d5779de030",
   "metadata": {},
   "outputs": [
    {
     "name": "stdout",
     "output_type": "stream",
     "text": [
      "<class 'pandas.core.frame.DataFrame'>\n",
      "Index: 7729 entries, 0 to 10839\n",
      "Data columns (total 13 columns):\n",
      " #   Column          Non-Null Count  Dtype  \n",
      "---  ------          --------------  -----  \n",
      " 0   Rating          7729 non-null   float64\n",
      " 1   App             7729 non-null   object \n",
      " 2   Category        7729 non-null   object \n",
      " 3   Reviews         7729 non-null   int64  \n",
      " 4   Size            7729 non-null   float64\n",
      " 5   Installs        7729 non-null   int64  \n",
      " 6   Type            7729 non-null   object \n",
      " 7   Price           7729 non-null   object \n",
      " 8   Content Rating  7729 non-null   object \n",
      " 9   Genres          7729 non-null   object \n",
      " 10  Last Updated    7729 non-null   object \n",
      " 11  Current Ver     7725 non-null   object \n",
      " 12  Android Ver     7727 non-null   object \n",
      "dtypes: float64(2), int64(2), object(9)\n",
      "memory usage: 845.4+ KB\n"
     ]
    }
   ],
   "source": [
    "df.info()"
   ]
  },
  {
   "cell_type": "code",
   "execution_count": 64,
   "id": "f789c3fe-938e-4403-8024-40c2cbd0b84a",
   "metadata": {},
   "outputs": [
    {
     "data": {
      "text/plain": [
       "Type\n",
       "Free    7150\n",
       "Paid     579\n",
       "Name: count, dtype: int64"
      ]
     },
     "execution_count": 64,
     "metadata": {},
     "output_type": "execute_result"
    }
   ],
   "source": [
    "df[\"Type\"].value_counts() # dont really need to convert but we'll still do it"
   ]
  },
  {
   "cell_type": "code",
   "execution_count": 75,
   "id": "e57057f2-701a-4b15-934c-4246888eba65",
   "metadata": {},
   "outputs": [],
   "source": [
    "df[\"Type\"] = df[\"Type\"].replace({\"Free\": \"0\", \"Paid\": \"1\"}, regex=True)"
   ]
  },
  {
   "cell_type": "code",
   "execution_count": 76,
   "id": "6ae61f02-5eb5-49dc-ae5f-96ab1d40110e",
   "metadata": {},
   "outputs": [],
   "source": [
    "df[\"Type\"] = pd.to_numeric(df[\"Type\"])"
   ]
  },
  {
   "cell_type": "code",
   "execution_count": 77,
   "id": "3fb4283d-dbc3-4c29-a5d8-4686bd357214",
   "metadata": {},
   "outputs": [
    {
     "name": "stdout",
     "output_type": "stream",
     "text": [
      "<class 'pandas.core.frame.DataFrame'>\n",
      "Index: 7729 entries, 0 to 10839\n",
      "Data columns (total 13 columns):\n",
      " #   Column          Non-Null Count  Dtype  \n",
      "---  ------          --------------  -----  \n",
      " 0   Rating          7729 non-null   float64\n",
      " 1   App             7729 non-null   object \n",
      " 2   Category        7729 non-null   object \n",
      " 3   Reviews         7729 non-null   int64  \n",
      " 4   Size            7729 non-null   float64\n",
      " 5   Installs        7729 non-null   int64  \n",
      " 6   Type            7729 non-null   int64  \n",
      " 7   Price           7729 non-null   object \n",
      " 8   Content Rating  7729 non-null   object \n",
      " 9   Genres          7729 non-null   object \n",
      " 10  Last Updated    7729 non-null   object \n",
      " 11  Current Ver     7725 non-null   object \n",
      " 12  Android Ver     7727 non-null   object \n",
      "dtypes: float64(2), int64(3), object(8)\n",
      "memory usage: 845.4+ KB\n"
     ]
    }
   ],
   "source": [
    "df.info()"
   ]
  },
  {
   "cell_type": "code",
   "execution_count": 83,
   "id": "d83de0f9-5033-4f16-a04e-984b85eeb540",
   "metadata": {},
   "outputs": [
    {
     "data": {
      "text/html": [
       "<div>\n",
       "<style scoped>\n",
       "    .dataframe tbody tr th:only-of-type {\n",
       "        vertical-align: middle;\n",
       "    }\n",
       "\n",
       "    .dataframe tbody tr th {\n",
       "        vertical-align: top;\n",
       "    }\n",
       "\n",
       "    .dataframe thead th {\n",
       "        text-align: right;\n",
       "    }\n",
       "</style>\n",
       "<table border=\"1\" class=\"dataframe\">\n",
       "  <thead>\n",
       "    <tr style=\"text-align: right;\">\n",
       "      <th></th>\n",
       "      <th>Rating</th>\n",
       "      <th>App</th>\n",
       "      <th>Category</th>\n",
       "      <th>Reviews</th>\n",
       "      <th>Size</th>\n",
       "      <th>Installs</th>\n",
       "      <th>Type</th>\n",
       "      <th>Price</th>\n",
       "      <th>Content Rating</th>\n",
       "      <th>Genres</th>\n",
       "      <th>Last Updated</th>\n",
       "      <th>Current Ver</th>\n",
       "      <th>Android Ver</th>\n",
       "    </tr>\n",
       "  </thead>\n",
       "  <tbody>\n",
       "    <tr>\n",
       "      <th>0</th>\n",
       "      <td>4.1</td>\n",
       "      <td>Photo Editor &amp; Candy Camera &amp; Grid &amp; ScrapBook</td>\n",
       "      <td>ART_AND_DESIGN</td>\n",
       "      <td>159</td>\n",
       "      <td>19000.0</td>\n",
       "      <td>10000</td>\n",
       "      <td>0</td>\n",
       "      <td>0</td>\n",
       "      <td>Everyone</td>\n",
       "      <td>Art &amp; Design</td>\n",
       "      <td>07-Jan-18</td>\n",
       "      <td>1.0.0</td>\n",
       "      <td>4.0.3 and up</td>\n",
       "    </tr>\n",
       "    <tr>\n",
       "      <th>1</th>\n",
       "      <td>3.9</td>\n",
       "      <td>Coloring book moana</td>\n",
       "      <td>ART_AND_DESIGN</td>\n",
       "      <td>967</td>\n",
       "      <td>14000.0</td>\n",
       "      <td>500000</td>\n",
       "      <td>0</td>\n",
       "      <td>0</td>\n",
       "      <td>Everyone</td>\n",
       "      <td>Art &amp; Design;Pretend Play</td>\n",
       "      <td>15-Jan-18</td>\n",
       "      <td>2.0.0</td>\n",
       "      <td>4.0.3 and up</td>\n",
       "    </tr>\n",
       "    <tr>\n",
       "      <th>2</th>\n",
       "      <td>4.7</td>\n",
       "      <td>U Launcher Lite – FREE Live Cool Themes, Hide ...</td>\n",
       "      <td>ART_AND_DESIGN</td>\n",
       "      <td>87510</td>\n",
       "      <td>8.7</td>\n",
       "      <td>5000000</td>\n",
       "      <td>0</td>\n",
       "      <td>0</td>\n",
       "      <td>Everyone</td>\n",
       "      <td>Art &amp; Design</td>\n",
       "      <td>01-Aug-18</td>\n",
       "      <td>1.2.4</td>\n",
       "      <td>4.0.3 and up</td>\n",
       "    </tr>\n",
       "    <tr>\n",
       "      <th>3</th>\n",
       "      <td>4.5</td>\n",
       "      <td>Sketch - Draw &amp; Paint</td>\n",
       "      <td>ART_AND_DESIGN</td>\n",
       "      <td>215644</td>\n",
       "      <td>25000.0</td>\n",
       "      <td>50000000</td>\n",
       "      <td>0</td>\n",
       "      <td>0</td>\n",
       "      <td>Teen</td>\n",
       "      <td>Art &amp; Design</td>\n",
       "      <td>08-Jun-18</td>\n",
       "      <td>Varies with device</td>\n",
       "      <td>4.2 and up</td>\n",
       "    </tr>\n",
       "    <tr>\n",
       "      <th>4</th>\n",
       "      <td>4.3</td>\n",
       "      <td>Pixel Draw - Number Art Coloring Book</td>\n",
       "      <td>ART_AND_DESIGN</td>\n",
       "      <td>967</td>\n",
       "      <td>2.8</td>\n",
       "      <td>100000</td>\n",
       "      <td>0</td>\n",
       "      <td>0</td>\n",
       "      <td>Everyone</td>\n",
       "      <td>Art &amp; Design;Creativity</td>\n",
       "      <td>20-Jun-18</td>\n",
       "      <td>1.1</td>\n",
       "      <td>4.4 and up</td>\n",
       "    </tr>\n",
       "  </tbody>\n",
       "</table>\n",
       "</div>"
      ],
      "text/plain": [
       "   Rating                                                App        Category  \\\n",
       "0     4.1     Photo Editor & Candy Camera & Grid & ScrapBook  ART_AND_DESIGN   \n",
       "1     3.9                                Coloring book moana  ART_AND_DESIGN   \n",
       "2     4.7  U Launcher Lite – FREE Live Cool Themes, Hide ...  ART_AND_DESIGN   \n",
       "3     4.5                              Sketch - Draw & Paint  ART_AND_DESIGN   \n",
       "4     4.3              Pixel Draw - Number Art Coloring Book  ART_AND_DESIGN   \n",
       "\n",
       "   Reviews     Size  Installs  Type Price Content Rating  \\\n",
       "0      159  19000.0     10000     0     0       Everyone   \n",
       "1      967  14000.0    500000     0     0       Everyone   \n",
       "2    87510      8.7   5000000     0     0       Everyone   \n",
       "3   215644  25000.0  50000000     0     0           Teen   \n",
       "4      967      2.8    100000     0     0       Everyone   \n",
       "\n",
       "                      Genres Last Updated         Current Ver   Android Ver  \n",
       "0               Art & Design    07-Jan-18               1.0.0  4.0.3 and up  \n",
       "1  Art & Design;Pretend Play    15-Jan-18               2.0.0  4.0.3 and up  \n",
       "2               Art & Design    01-Aug-18               1.2.4  4.0.3 and up  \n",
       "3               Art & Design    08-Jun-18  Varies with device    4.2 and up  \n",
       "4    Art & Design;Creativity    20-Jun-18                 1.1    4.4 and up  "
      ]
     },
     "execution_count": 83,
     "metadata": {},
     "output_type": "execute_result"
    }
   ],
   "source": [
    "df.head()"
   ]
  },
  {
   "cell_type": "code",
   "execution_count": 86,
   "id": "c8e65156-ae4b-4100-8dbd-5831140e01f9",
   "metadata": {},
   "outputs": [
    {
     "name": "stdout",
     "output_type": "stream",
     "text": [
      "<class 'pandas.core.frame.DataFrame'>\n",
      "Index: 7729 entries, 0 to 10839\n",
      "Data columns (total 13 columns):\n",
      " #   Column          Non-Null Count  Dtype  \n",
      "---  ------          --------------  -----  \n",
      " 0   Rating          7729 non-null   float64\n",
      " 1   App             7729 non-null   object \n",
      " 2   Category        7729 non-null   object \n",
      " 3   Reviews         7729 non-null   int64  \n",
      " 4   Size            7729 non-null   float64\n",
      " 5   Installs        7729 non-null   int64  \n",
      " 6   Type            7729 non-null   int64  \n",
      " 7   Price           7729 non-null   object \n",
      " 8   Content Rating  7729 non-null   object \n",
      " 9   Genres          7729 non-null   object \n",
      " 10  Last Updated    7729 non-null   object \n",
      " 11  Current Ver     7725 non-null   object \n",
      " 12  Android Ver     7727 non-null   object \n",
      "dtypes: float64(2), int64(3), object(8)\n",
      "memory usage: 845.4+ KB\n"
     ]
    }
   ],
   "source": [
    "df.info()"
   ]
  },
  {
   "cell_type": "code",
   "execution_count": 90,
   "id": "a04201b5-0611-4b8e-9b4c-6b4327350806",
   "metadata": {},
   "outputs": [
    {
     "name": "stderr",
     "output_type": "stream",
     "text": [
      "<>:1: SyntaxWarning: invalid escape sequence '\\$'\n",
      "<>:1: SyntaxWarning: invalid escape sequence '\\$'\n",
      "C:\\Users\\notmo\\AppData\\Local\\Temp\\ipykernel_15656\\3509677433.py:1: SyntaxWarning: invalid escape sequence '\\$'\n",
      "  df[\"Price\"] = df[\"Price\"].replace(\"\\$\", \"\", regex=True)\n"
     ]
    }
   ],
   "source": [
    "df[\"Price\"] = df[\"Price\"].replace(\"\\$\", \"\", regex=True)"
   ]
  },
  {
   "cell_type": "code",
   "execution_count": 91,
   "id": "e4c9a0a3-3832-4f6f-bab2-9dad89dccada",
   "metadata": {},
   "outputs": [
    {
     "data": {
      "text/plain": [
       "array(['0', '4.99 ', '6.99 ', '7.99 ', '3.99 ', '5.99 ', '2.99 ', '1.99 ',\n",
       "       '9.99 ', '0.99 ', '9.00 ', '5.49 ', '10.00 ', '24.99 ', '11.99 ',\n",
       "       '79.99 ', '16.99 ', '14.99 ', '29.99 ', '12.99 ', '3.49 ',\n",
       "       '10.99 ', '7.49 ', '1.50 ', '19.99 ', '15.99 ', '33.99 ', '39.99 ',\n",
       "       '2.49 ', '4.49 ', '1.70 ', '1.49 ', '3.88 ', '399.99 ', '17.99 ',\n",
       "       '400.00 ', '3.02 ', '1.76 ', '4.84 ', '4.77 ', '1.61 ', '1.59 ',\n",
       "       '6.49 ', '1.29 ', '299.99 ', '379.99 ', '37.99 ', '18.99 ',\n",
       "       '389.99 ', '8.49 ', '1.75 ', '14.00 ', '2.00 ', '3.08 ', '2.59 ',\n",
       "       '19.40 ', '15.46 ', '8.99 ', '3.04 ', '13.99 ', '4.29 ', '3.28 ',\n",
       "       '4.60 ', '1.00 ', '2.90 ', '1.97 ', '2.56 ', '1.20 '], dtype=object)"
      ]
     },
     "execution_count": 91,
     "metadata": {},
     "output_type": "execute_result"
    }
   ],
   "source": [
    "df[\"Price\"].unique()"
   ]
  },
  {
   "cell_type": "code",
   "execution_count": 92,
   "id": "923303fd-4aa6-4eb3-93f1-f56b65b32fdc",
   "metadata": {},
   "outputs": [],
   "source": [
    "df[\"Price\"] = pd.to_numeric(df[\"Price\"])"
   ]
  },
  {
   "cell_type": "code",
   "execution_count": 93,
   "id": "8efbcb8c-935c-43b8-9818-e705fdc4ab22",
   "metadata": {},
   "outputs": [
    {
     "name": "stdout",
     "output_type": "stream",
     "text": [
      "<class 'pandas.core.frame.DataFrame'>\n",
      "Index: 7729 entries, 0 to 10839\n",
      "Data columns (total 13 columns):\n",
      " #   Column          Non-Null Count  Dtype  \n",
      "---  ------          --------------  -----  \n",
      " 0   Rating          7729 non-null   float64\n",
      " 1   App             7729 non-null   object \n",
      " 2   Category        7729 non-null   object \n",
      " 3   Reviews         7729 non-null   int64  \n",
      " 4   Size            7729 non-null   float64\n",
      " 5   Installs        7729 non-null   int64  \n",
      " 6   Type            7729 non-null   int64  \n",
      " 7   Price           7729 non-null   float64\n",
      " 8   Content Rating  7729 non-null   object \n",
      " 9   Genres          7729 non-null   object \n",
      " 10  Last Updated    7729 non-null   object \n",
      " 11  Current Ver     7725 non-null   object \n",
      " 12  Android Ver     7727 non-null   object \n",
      "dtypes: float64(3), int64(3), object(7)\n",
      "memory usage: 845.4+ KB\n"
     ]
    }
   ],
   "source": [
    "df.info()"
   ]
  },
  {
   "cell_type": "code",
   "execution_count": 105,
   "id": "4f09a930-7a73-434d-9b25-593a686be27f",
   "metadata": {},
   "outputs": [],
   "source": [
    "df[\"Current Ver\"] = df[\"Current Ver\"].replace(\" - Hegoa\", \"\", regex=True)"
   ]
  },
  {
   "cell_type": "code",
   "execution_count": 107,
   "id": "a7e1639e-cbe4-4ecc-9bae-b374c0bc0169",
   "metadata": {},
   "outputs": [
    {
     "data": {
      "text/plain": [
       "array(['1.0.0', '2.0.0', '1.2.4', ..., '1.5.447', '1.0.612928', '0.3.4'],\n",
       "      dtype=object)"
      ]
     },
     "execution_count": 107,
     "metadata": {},
     "output_type": "execute_result"
    }
   ],
   "source": [
    "df[\"Current Ver\"].unique()"
   ]
  },
  {
   "cell_type": "code",
   "execution_count": 117,
   "id": "dd2df39f-1881-417f-b3b4-ae0bd8c622d3",
   "metadata": {},
   "outputs": [],
   "source": [
    "df = df[ df[\"Current Ver\"]!=\"Varies with deice\"]"
   ]
  },
  {
   "cell_type": "code",
   "execution_count": 122,
   "id": "d7eaf381-11df-49b0-b3af-a4df3413af34",
   "metadata": {},
   "outputs": [
    {
     "data": {
      "text/plain": [
       "array(['4.0.3 and up', '4.4 and up', '2.3 and up', '4.2 and up',\n",
       "       '3.0 and up', '4.1 and up', '4.0 and up', '2.2 and up',\n",
       "       '6.0 and up', '5.0 and up', '1.6 and up', '2.1 and up',\n",
       "       '1.5 and up', '7.0 and up', '4.3 and up', '4.0.3 - 7.1.1',\n",
       "       '2.0 and up', '2.3.3 and up', '3.2 and up', '4.4W and up',\n",
       "       '5.1 and up', '7.1 and up', '7.0 - 7.1.1', 'Varies with device',\n",
       "       '8.0 and up', '5.0 - 8.0', '3.1 and up', '2.0.1 and up',\n",
       "       '4.1 - 7.1.1', nan, '5.0 - 6.0', '1.0 and up'], dtype=object)"
      ]
     },
     "execution_count": 122,
     "metadata": {},
     "output_type": "execute_result"
    }
   ],
   "source": [
    "df[\"Android Ver\"].unique()"
   ]
  },
  {
   "cell_type": "code",
   "execution_count": 123,
   "id": "d69b4078-bfea-4b3d-838a-b5f1b792173f",
   "metadata": {},
   "outputs": [
    {
     "name": "stderr",
     "output_type": "stream",
     "text": [
      "C:\\Users\\notmo\\AppData\\Local\\Temp\\ipykernel_15656\\4073729089.py:1: SettingWithCopyWarning: \n",
      "A value is trying to be set on a copy of a slice from a DataFrame.\n",
      "Try using .loc[row_indexer,col_indexer] = value instead\n",
      "\n",
      "See the caveats in the documentation: https://pandas.pydata.org/pandas-docs/stable/user_guide/indexing.html#returning-a-view-versus-a-copy\n",
      "  df[\"Android Ver\"] = df[\"Android Ver\"].replace(\" and up\", \"\", regex=True)\n"
     ]
    }
   ],
   "source": [
    "df[\"Android Ver\"] = df[\"Android Ver\"].replace(\" and up\", \"\", regex=True)"
   ]
  },
  {
   "cell_type": "code",
   "execution_count": 125,
   "id": "5d009bd5-4b0d-40d8-aea3-3e843ce94f1c",
   "metadata": {},
   "outputs": [
    {
     "name": "stderr",
     "output_type": "stream",
     "text": [
      "C:\\Users\\notmo\\AppData\\Local\\Temp\\ipykernel_15656\\1456804762.py:1: SettingWithCopyWarning: \n",
      "A value is trying to be set on a copy of a slice from a DataFrame.\n",
      "Try using .loc[row_indexer,col_indexer] = value instead\n",
      "\n",
      "See the caveats in the documentation: https://pandas.pydata.org/pandas-docs/stable/user_guide/indexing.html#returning-a-view-versus-a-copy\n",
      "  df[\"Android Ver\"] = df[\"Android Ver\"].replace({\"W\": \"\", \"Varies with device\": \"\"}, regex=True)\n"
     ]
    }
   ],
   "source": [
    "df[\"Android Ver\"] = df[\"Android Ver\"].replace({\"W\": \"\", \"Varies with device\": \"\"}, regex=True)"
   ]
  },
  {
   "cell_type": "code",
   "execution_count": 132,
   "id": "615c20db-7241-4f41-b8da-f2479a985592",
   "metadata": {},
   "outputs": [],
   "source": [
    "df = df[ df[\"Android Ver\"] != \"\" ]"
   ]
  },
  {
   "cell_type": "code",
   "execution_count": 141,
   "id": "09f38d3e-16a9-4823-b324-060652930719",
   "metadata": {},
   "outputs": [
    {
     "data": {
      "text/plain": [
       "0    4.0.3\n",
       "1    4.0.3\n",
       "2    4.0.3\n",
       "4      4.4\n",
       "5      2.3\n",
       "Name: Android Ver, dtype: object"
      ]
     },
     "execution_count": 141,
     "metadata": {},
     "output_type": "execute_result"
    }
   ],
   "source": [
    "df.head()"
   ]
  },
  {
   "cell_type": "code",
   "execution_count": 1,
   "id": "3939366e-8338-487f-9d6e-cf3269491243",
   "metadata": {},
   "outputs": [],
   "source": [
    "# df = df[\"Android Ver\"].dropna()"
   ]
  },
  {
   "cell_type": "code",
   "execution_count": 140,
   "id": "15ab646b-f137-4808-8784-e87205e788d5",
   "metadata": {},
   "outputs": [
    {
     "data": {
      "text/plain": [
       "0    4.0.3\n",
       "1    4.0.3\n",
       "2    4.0.3\n",
       "4      4.4\n",
       "5      2.3\n",
       "Name: Android Ver, dtype: object"
      ]
     },
     "execution_count": 140,
     "metadata": {},
     "output_type": "execute_result"
    }
   ],
   "source": [
    "df.head()"
   ]
  },
  {
   "cell_type": "code",
   "execution_count": null,
   "id": "9607725f-df73-4f8e-a16d-74473eee766f",
   "metadata": {},
   "outputs": [],
   "source": []
  },
  {
   "cell_type": "code",
   "execution_count": null,
   "id": "85a05814-f276-4ef6-86c8-bca3aaea41cb",
   "metadata": {},
   "outputs": [],
   "source": []
  }
 ],
 "metadata": {
  "kernelspec": {
   "display_name": "Python 3 (ipykernel)",
   "language": "python",
   "name": "python3"
  },
  "language_info": {
   "codemirror_mode": {
    "name": "ipython",
    "version": 3
   },
   "file_extension": ".py",
   "mimetype": "text/x-python",
   "name": "python",
   "nbconvert_exporter": "python",
   "pygments_lexer": "ipython3",
   "version": "3.12.0"
  }
 },
 "nbformat": 4,
 "nbformat_minor": 5
}
