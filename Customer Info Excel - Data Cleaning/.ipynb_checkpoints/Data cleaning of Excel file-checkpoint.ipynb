{
 "cells": [
  {
   "cell_type": "code",
   "execution_count": 1,
   "id": "e030006a-7630-4644-b525-62ccbbce628a",
   "metadata": {},
   "outputs": [],
   "source": [
    "import pandas as pd\n",
    "import numpy as np\n",
    "import matplotlib.pyplot as plt\n",
    "import seaborn as sns"
   ]
  },
  {
   "cell_type": "code",
   "execution_count": 2,
   "id": "1c2e4e2d-3258-4e0b-badd-a6a5722d167f",
   "metadata": {},
   "outputs": [],
   "source": [
    "excel_file = pd.ExcelFile('excel_data_to_clean.xlsx')\n",
    "\n",
    "sheet_names = excel_file.sheet_names"
   ]
  },
  {
   "cell_type": "code",
   "execution_count": 3,
   "id": "2285b25c-88c0-4b1f-9091-589f5cc7f222",
   "metadata": {},
   "outputs": [
    {
     "data": {
      "text/plain": [
       "['Final Data', 'Raw Data']"
      ]
     },
     "execution_count": 3,
     "metadata": {},
     "output_type": "execute_result"
    }
   ],
   "source": [
    "sheet_names"
   ]
  },
  {
   "cell_type": "code",
   "execution_count": 4,
   "id": "6465edbe-ed50-4973-a07d-c2e3e49594a8",
   "metadata": {},
   "outputs": [],
   "source": [
    "df = pd.read_excel('excel_data_to_clean.xlsx', sheet_name=\"Raw Data\")"
   ]
  },
  {
   "cell_type": "code",
   "execution_count": 5,
   "id": "932e07a9-3b94-458a-b5ff-f2eba4bab926",
   "metadata": {},
   "outputs": [
    {
     "data": {
      "text/plain": [
       "(10002, 8)"
      ]
     },
     "execution_count": 5,
     "metadata": {},
     "output_type": "execute_result"
    }
   ],
   "source": [
    "# printing out the number of rows and columns in the dataframe\n",
    "df.shape"
   ]
  },
  {
   "cell_type": "code",
   "execution_count": 6,
   "id": "5c9a7712-ba97-4ac1-8dcd-db73335e5c42",
   "metadata": {},
   "outputs": [
    {
     "data": {
      "text/html": [
       "<div>\n",
       "<style scoped>\n",
       "    .dataframe tbody tr th:only-of-type {\n",
       "        vertical-align: middle;\n",
       "    }\n",
       "\n",
       "    .dataframe tbody tr th {\n",
       "        vertical-align: top;\n",
       "    }\n",
       "\n",
       "    .dataframe thead th {\n",
       "        text-align: right;\n",
       "    }\n",
       "</style>\n",
       "<table border=\"1\" class=\"dataframe\">\n",
       "  <thead>\n",
       "    <tr style=\"text-align: right;\">\n",
       "      <th></th>\n",
       "      <th>Unnamed: 0</th>\n",
       "      <th>Unnamed: 1</th>\n",
       "      <th>Unnamed: 2</th>\n",
       "      <th>Unnamed: 3</th>\n",
       "      <th>Unnamed: 4</th>\n",
       "      <th>Unnamed: 5</th>\n",
       "      <th>Unnamed: 6</th>\n",
       "      <th>Unnamed: 7</th>\n",
       "    </tr>\n",
       "  </thead>\n",
       "  <tbody>\n",
       "    <tr>\n",
       "      <th>0</th>\n",
       "      <td>NaN</td>\n",
       "      <td>NaN</td>\n",
       "      <td>NaN</td>\n",
       "      <td>NaN</td>\n",
       "      <td>NaN</td>\n",
       "      <td>NaN</td>\n",
       "      <td>NaN</td>\n",
       "      <td>NaN</td>\n",
       "    </tr>\n",
       "    <tr>\n",
       "      <th>1</th>\n",
       "      <td>NaN</td>\n",
       "      <td>Date</td>\n",
       "      <td>SalesRep</td>\n",
       "      <td>Product</td>\n",
       "      <td>Units</td>\n",
       "      <td>Price</td>\n",
       "      <td>Total Sales</td>\n",
       "      <td>City</td>\n",
       "    </tr>\n",
       "    <tr>\n",
       "      <th>2</th>\n",
       "      <td>NaN</td>\n",
       "      <td>2013-01-01 00:00:00</td>\n",
       "      <td>Isabel  Cross (903)</td>\n",
       "      <td>Nestle Aero Mint Potz</td>\n",
       "      <td>4</td>\n",
       "      <td>495</td>\n",
       "      <td>1980</td>\n",
       "      <td>Ranchi_East</td>\n",
       "    </tr>\n",
       "    <tr>\n",
       "      <th>3</th>\n",
       "      <td>NaN</td>\n",
       "      <td>2013-01-02 00:00:00</td>\n",
       "      <td>Cecilia  Manning (403)</td>\n",
       "      <td>Nestle Smarties Pop-Up</td>\n",
       "      <td>2</td>\n",
       "      <td>438</td>\n",
       "      <td>876</td>\n",
       "      <td>Trivandrum_South</td>\n",
       "    </tr>\n",
       "    <tr>\n",
       "      <th>4</th>\n",
       "      <td>NaN</td>\n",
       "      <td>2013-01-02 00:00:00</td>\n",
       "      <td>Isabel  Cross (705)</td>\n",
       "      <td>Nestle Maxibon Cookie</td>\n",
       "      <td>1</td>\n",
       "      <td>426</td>\n",
       "      <td>426</td>\n",
       "      <td>Ranchi_East</td>\n",
       "    </tr>\n",
       "  </tbody>\n",
       "</table>\n",
       "</div>"
      ],
      "text/plain": [
       "   Unnamed: 0           Unnamed: 1              Unnamed: 2  \\\n",
       "0         NaN                  NaN                     NaN   \n",
       "1         NaN                 Date                SalesRep   \n",
       "2         NaN  2013-01-01 00:00:00     Isabel  Cross (903)   \n",
       "3         NaN  2013-01-02 00:00:00  Cecilia  Manning (403)   \n",
       "4         NaN  2013-01-02 00:00:00     Isabel  Cross (705)   \n",
       "\n",
       "                  Unnamed: 3 Unnamed: 4 Unnamed: 5   Unnamed: 6  \\\n",
       "0                        NaN        NaN        NaN          NaN   \n",
       "1                    Product      Units      Price  Total Sales   \n",
       "2      Nestle Aero Mint Potz          4        495         1980   \n",
       "3     Nestle Smarties Pop-Up          2        438          876   \n",
       "4      Nestle Maxibon Cookie          1        426          426   \n",
       "\n",
       "         Unnamed: 7  \n",
       "0               NaN  \n",
       "1              City  \n",
       "2       Ranchi_East  \n",
       "3  Trivandrum_South  \n",
       "4       Ranchi_East  "
      ]
     },
     "execution_count": 6,
     "metadata": {},
     "output_type": "execute_result"
    }
   ],
   "source": [
    "df.head()"
   ]
  },
  {
   "cell_type": "code",
   "execution_count": 7,
   "id": "04b06a50-47b3-444f-9170-5584c417dc19",
   "metadata": {},
   "outputs": [
    {
     "data": {
      "text/plain": [
       "Series([], Name: count, dtype: int64)"
      ]
     },
     "execution_count": 7,
     "metadata": {},
     "output_type": "execute_result"
    }
   ],
   "source": [
    "df[\"Unnamed: 0\"].value_counts()"
   ]
  },
  {
   "cell_type": "code",
   "execution_count": 8,
   "id": "abda7119-fb51-410f-830f-fb58fe03616d",
   "metadata": {},
   "outputs": [],
   "source": [
    "df.drop(columns=[\"Unnamed: 0\"], axis=1, inplace=True)"
   ]
  },
  {
   "cell_type": "code",
   "execution_count": 9,
   "id": "a65675cb-f7f7-4f53-b700-037729f740ad",
   "metadata": {},
   "outputs": [],
   "source": [
    "df.rename(columns={\"Unnamed: 1\": \"Date\", \"Unnamed: 2\": \"SalesRep\", \"Unnamed: 3\": \"Product\", \"Unnamed: 4\": \"Units\", \"Unnamed: 5\": \"Price\", \"Unnamed: 6\": \"Total Sales\", \"Unnamed: 7\": \"City\"}, inplace=True)"
   ]
  },
  {
   "cell_type": "code",
   "execution_count": 10,
   "id": "7e807bf1-5317-429d-bb7b-9991b52bff76",
   "metadata": {},
   "outputs": [],
   "source": [
    "df.drop([0, 1], inplace=True)"
   ]
  },
  {
   "cell_type": "code",
   "execution_count": 11,
   "id": "184f6b39-4cb5-4646-99f1-b977843e8807",
   "metadata": {},
   "outputs": [],
   "source": [
    "df.reset_index(drop=True, inplace=True)"
   ]
  },
  {
   "cell_type": "code",
   "execution_count": 12,
   "id": "2d95fe58-ca7a-41f0-a928-741ad54c5bae",
   "metadata": {},
   "outputs": [
    {
     "data": {
      "text/html": [
       "<div>\n",
       "<style scoped>\n",
       "    .dataframe tbody tr th:only-of-type {\n",
       "        vertical-align: middle;\n",
       "    }\n",
       "\n",
       "    .dataframe tbody tr th {\n",
       "        vertical-align: top;\n",
       "    }\n",
       "\n",
       "    .dataframe thead th {\n",
       "        text-align: right;\n",
       "    }\n",
       "</style>\n",
       "<table border=\"1\" class=\"dataframe\">\n",
       "  <thead>\n",
       "    <tr style=\"text-align: right;\">\n",
       "      <th></th>\n",
       "      <th>Date</th>\n",
       "      <th>SalesRep</th>\n",
       "      <th>Product</th>\n",
       "      <th>Units</th>\n",
       "      <th>Price</th>\n",
       "      <th>Total Sales</th>\n",
       "      <th>City</th>\n",
       "    </tr>\n",
       "  </thead>\n",
       "  <tbody>\n",
       "    <tr>\n",
       "      <th>0</th>\n",
       "      <td>2013-01-01 00:00:00</td>\n",
       "      <td>Isabel  Cross (903)</td>\n",
       "      <td>Nestle Aero Mint Potz</td>\n",
       "      <td>4</td>\n",
       "      <td>495</td>\n",
       "      <td>1980</td>\n",
       "      <td>Ranchi_East</td>\n",
       "    </tr>\n",
       "    <tr>\n",
       "      <th>1</th>\n",
       "      <td>2013-01-02 00:00:00</td>\n",
       "      <td>Cecilia  Manning (403)</td>\n",
       "      <td>Nestle Smarties Pop-Up</td>\n",
       "      <td>2</td>\n",
       "      <td>438</td>\n",
       "      <td>876</td>\n",
       "      <td>Trivandrum_South</td>\n",
       "    </tr>\n",
       "    <tr>\n",
       "      <th>2</th>\n",
       "      <td>2013-01-02 00:00:00</td>\n",
       "      <td>Isabel  Cross (705)</td>\n",
       "      <td>Nestle Maxibon Cookie</td>\n",
       "      <td>1</td>\n",
       "      <td>426</td>\n",
       "      <td>426</td>\n",
       "      <td>Ranchi_East</td>\n",
       "    </tr>\n",
       "    <tr>\n",
       "      <th>3</th>\n",
       "      <td>2013-01-02 00:00:00</td>\n",
       "      <td>Shari  Silva (321)</td>\n",
       "      <td>Nestle Maxibon Cookie</td>\n",
       "      <td>2</td>\n",
       "      <td>260</td>\n",
       "      <td>520</td>\n",
       "      <td>Mysore_South</td>\n",
       "    </tr>\n",
       "    <tr>\n",
       "      <th>4</th>\n",
       "      <td>2013-01-02 00:00:00</td>\n",
       "      <td>Trevor  Jones (802)</td>\n",
       "      <td>Nestle Toffee Crumble</td>\n",
       "      <td>4</td>\n",
       "      <td>285</td>\n",
       "      <td>1140</td>\n",
       "      <td>Pune_West</td>\n",
       "    </tr>\n",
       "  </tbody>\n",
       "</table>\n",
       "</div>"
      ],
      "text/plain": [
       "                  Date                SalesRep                      Product  \\\n",
       "0  2013-01-01 00:00:00     Isabel  Cross (903)        Nestle Aero Mint Potz   \n",
       "1  2013-01-02 00:00:00  Cecilia  Manning (403)       Nestle Smarties Pop-Up   \n",
       "2  2013-01-02 00:00:00     Isabel  Cross (705)        Nestle Maxibon Cookie   \n",
       "3  2013-01-02 00:00:00      Shari  Silva (321)        Nestle Maxibon Cookie   \n",
       "4  2013-01-02 00:00:00     Trevor  Jones (802)        Nestle Toffee Crumble   \n",
       "\n",
       "  Units Price Total Sales              City  \n",
       "0     4   495        1980       Ranchi_East  \n",
       "1     2   438         876  Trivandrum_South  \n",
       "2     1   426         426       Ranchi_East  \n",
       "3     2   260         520      Mysore_South  \n",
       "4     4   285        1140         Pune_West  "
      ]
     },
     "execution_count": 12,
     "metadata": {},
     "output_type": "execute_result"
    }
   ],
   "source": [
    "df.head()"
   ]
  },
  {
   "cell_type": "code",
   "execution_count": 13,
   "id": "51204b40-3d68-4734-aaa1-ccc26e53d881",
   "metadata": {},
   "outputs": [],
   "source": [
    "df['Date'] = pd.to_datetime(df['Date']).dt.date"
   ]
  },
  {
   "cell_type": "code",
   "execution_count": 14,
   "id": "a30718ed-f530-48c4-a10c-c7c7c56d4bce",
   "metadata": {},
   "outputs": [
    {
     "data": {
      "text/html": [
       "<div>\n",
       "<style scoped>\n",
       "    .dataframe tbody tr th:only-of-type {\n",
       "        vertical-align: middle;\n",
       "    }\n",
       "\n",
       "    .dataframe tbody tr th {\n",
       "        vertical-align: top;\n",
       "    }\n",
       "\n",
       "    .dataframe thead th {\n",
       "        text-align: right;\n",
       "    }\n",
       "</style>\n",
       "<table border=\"1\" class=\"dataframe\">\n",
       "  <thead>\n",
       "    <tr style=\"text-align: right;\">\n",
       "      <th></th>\n",
       "      <th>Date</th>\n",
       "      <th>SalesRep</th>\n",
       "      <th>Product</th>\n",
       "      <th>Units</th>\n",
       "      <th>Price</th>\n",
       "      <th>Total Sales</th>\n",
       "      <th>City</th>\n",
       "    </tr>\n",
       "  </thead>\n",
       "  <tbody>\n",
       "    <tr>\n",
       "      <th>0</th>\n",
       "      <td>2013-01-01</td>\n",
       "      <td>Isabel  Cross (903)</td>\n",
       "      <td>Nestle Aero Mint Potz</td>\n",
       "      <td>4</td>\n",
       "      <td>495</td>\n",
       "      <td>1980</td>\n",
       "      <td>Ranchi_East</td>\n",
       "    </tr>\n",
       "    <tr>\n",
       "      <th>1</th>\n",
       "      <td>2013-01-02</td>\n",
       "      <td>Cecilia  Manning (403)</td>\n",
       "      <td>Nestle Smarties Pop-Up</td>\n",
       "      <td>2</td>\n",
       "      <td>438</td>\n",
       "      <td>876</td>\n",
       "      <td>Trivandrum_South</td>\n",
       "    </tr>\n",
       "    <tr>\n",
       "      <th>2</th>\n",
       "      <td>2013-01-02</td>\n",
       "      <td>Isabel  Cross (705)</td>\n",
       "      <td>Nestle Maxibon Cookie</td>\n",
       "      <td>1</td>\n",
       "      <td>426</td>\n",
       "      <td>426</td>\n",
       "      <td>Ranchi_East</td>\n",
       "    </tr>\n",
       "    <tr>\n",
       "      <th>3</th>\n",
       "      <td>2013-01-02</td>\n",
       "      <td>Shari  Silva (321)</td>\n",
       "      <td>Nestle Maxibon Cookie</td>\n",
       "      <td>2</td>\n",
       "      <td>260</td>\n",
       "      <td>520</td>\n",
       "      <td>Mysore_South</td>\n",
       "    </tr>\n",
       "    <tr>\n",
       "      <th>4</th>\n",
       "      <td>2013-01-02</td>\n",
       "      <td>Trevor  Jones (802)</td>\n",
       "      <td>Nestle Toffee Crumble</td>\n",
       "      <td>4</td>\n",
       "      <td>285</td>\n",
       "      <td>1140</td>\n",
       "      <td>Pune_West</td>\n",
       "    </tr>\n",
       "  </tbody>\n",
       "</table>\n",
       "</div>"
      ],
      "text/plain": [
       "         Date                SalesRep                      Product Units  \\\n",
       "0  2013-01-01     Isabel  Cross (903)        Nestle Aero Mint Potz     4   \n",
       "1  2013-01-02  Cecilia  Manning (403)       Nestle Smarties Pop-Up     2   \n",
       "2  2013-01-02     Isabel  Cross (705)        Nestle Maxibon Cookie     1   \n",
       "3  2013-01-02      Shari  Silva (321)        Nestle Maxibon Cookie     2   \n",
       "4  2013-01-02     Trevor  Jones (802)        Nestle Toffee Crumble     4   \n",
       "\n",
       "  Price Total Sales              City  \n",
       "0   495        1980       Ranchi_East  \n",
       "1   438         876  Trivandrum_South  \n",
       "2   426         426       Ranchi_East  \n",
       "3   260         520      Mysore_South  \n",
       "4   285        1140         Pune_West  "
      ]
     },
     "execution_count": 14,
     "metadata": {},
     "output_type": "execute_result"
    }
   ],
   "source": [
    "df.head()"
   ]
  },
  {
   "cell_type": "code",
   "execution_count": 15,
   "id": "42ce058b-3fe6-486e-89bf-7274db76228f",
   "metadata": {},
   "outputs": [],
   "source": [
    "df['Region'] = df['City'].str.split('_', expand=True)[1]"
   ]
  },
  {
   "cell_type": "code",
   "execution_count": 16,
   "id": "4309cffb-7707-4a7c-8314-9d7f77547373",
   "metadata": {},
   "outputs": [],
   "source": [
    "df[\"City\"] = df[\"City\"].str.split(\"_\").str[0]"
   ]
  },
  {
   "cell_type": "code",
   "execution_count": 17,
   "id": "7fbc9be8-581e-4dd2-baa2-a05411cc5c9b",
   "metadata": {},
   "outputs": [
    {
     "data": {
      "text/html": [
       "<div>\n",
       "<style scoped>\n",
       "    .dataframe tbody tr th:only-of-type {\n",
       "        vertical-align: middle;\n",
       "    }\n",
       "\n",
       "    .dataframe tbody tr th {\n",
       "        vertical-align: top;\n",
       "    }\n",
       "\n",
       "    .dataframe thead th {\n",
       "        text-align: right;\n",
       "    }\n",
       "</style>\n",
       "<table border=\"1\" class=\"dataframe\">\n",
       "  <thead>\n",
       "    <tr style=\"text-align: right;\">\n",
       "      <th></th>\n",
       "      <th>Date</th>\n",
       "      <th>SalesRep</th>\n",
       "      <th>Product</th>\n",
       "      <th>Units</th>\n",
       "      <th>Price</th>\n",
       "      <th>Total Sales</th>\n",
       "      <th>City</th>\n",
       "      <th>Region</th>\n",
       "    </tr>\n",
       "  </thead>\n",
       "  <tbody>\n",
       "    <tr>\n",
       "      <th>0</th>\n",
       "      <td>2013-01-01</td>\n",
       "      <td>Isabel  Cross (903)</td>\n",
       "      <td>Nestle Aero Mint Potz</td>\n",
       "      <td>4</td>\n",
       "      <td>495</td>\n",
       "      <td>1980</td>\n",
       "      <td>Ranchi</td>\n",
       "      <td>East</td>\n",
       "    </tr>\n",
       "    <tr>\n",
       "      <th>1</th>\n",
       "      <td>2013-01-02</td>\n",
       "      <td>Cecilia  Manning (403)</td>\n",
       "      <td>Nestle Smarties Pop-Up</td>\n",
       "      <td>2</td>\n",
       "      <td>438</td>\n",
       "      <td>876</td>\n",
       "      <td>Trivandrum</td>\n",
       "      <td>South</td>\n",
       "    </tr>\n",
       "    <tr>\n",
       "      <th>2</th>\n",
       "      <td>2013-01-02</td>\n",
       "      <td>Isabel  Cross (705)</td>\n",
       "      <td>Nestle Maxibon Cookie</td>\n",
       "      <td>1</td>\n",
       "      <td>426</td>\n",
       "      <td>426</td>\n",
       "      <td>Ranchi</td>\n",
       "      <td>East</td>\n",
       "    </tr>\n",
       "    <tr>\n",
       "      <th>3</th>\n",
       "      <td>2013-01-02</td>\n",
       "      <td>Shari  Silva (321)</td>\n",
       "      <td>Nestle Maxibon Cookie</td>\n",
       "      <td>2</td>\n",
       "      <td>260</td>\n",
       "      <td>520</td>\n",
       "      <td>Mysore</td>\n",
       "      <td>South</td>\n",
       "    </tr>\n",
       "    <tr>\n",
       "      <th>4</th>\n",
       "      <td>2013-01-02</td>\n",
       "      <td>Trevor  Jones (802)</td>\n",
       "      <td>Nestle Toffee Crumble</td>\n",
       "      <td>4</td>\n",
       "      <td>285</td>\n",
       "      <td>1140</td>\n",
       "      <td>Pune</td>\n",
       "      <td>West</td>\n",
       "    </tr>\n",
       "  </tbody>\n",
       "</table>\n",
       "</div>"
      ],
      "text/plain": [
       "         Date                SalesRep                      Product Units  \\\n",
       "0  2013-01-01     Isabel  Cross (903)        Nestle Aero Mint Potz     4   \n",
       "1  2013-01-02  Cecilia  Manning (403)       Nestle Smarties Pop-Up     2   \n",
       "2  2013-01-02     Isabel  Cross (705)        Nestle Maxibon Cookie     1   \n",
       "3  2013-01-02      Shari  Silva (321)        Nestle Maxibon Cookie     2   \n",
       "4  2013-01-02     Trevor  Jones (802)        Nestle Toffee Crumble     4   \n",
       "\n",
       "  Price Total Sales        City Region  \n",
       "0   495        1980      Ranchi   East  \n",
       "1   438         876  Trivandrum  South  \n",
       "2   426         426      Ranchi   East  \n",
       "3   260         520      Mysore  South  \n",
       "4   285        1140        Pune   West  "
      ]
     },
     "execution_count": 17,
     "metadata": {},
     "output_type": "execute_result"
    }
   ],
   "source": [
    "# above, we have created a seperate coulmn for region and then removed the region part from the city\n",
    "df.head()"
   ]
  },
  {
   "cell_type": "code",
   "execution_count": 18,
   "id": "77443361-fa5e-4a45-b2be-68f83269eafe",
   "metadata": {},
   "outputs": [
    {
     "name": "stderr",
     "output_type": "stream",
     "text": [
      "<>:2: SyntaxWarning: invalid escape sequence '\\('\n",
      "<>:2: SyntaxWarning: invalid escape sequence '\\('\n",
      "C:\\Users\\notmo\\AppData\\Local\\Temp\\ipykernel_6156\\2182998427.py:2: SyntaxWarning: invalid escape sequence '\\('\n",
      "  df[\"SalesRep\"] = df[\"SalesRep\"].str.split(\" \\(\").str[0]\n"
     ]
    }
   ],
   "source": [
    "# removing unnecessary numbers from the \"SalesRep\" column\n",
    "df[\"SalesRep\"] = df[\"SalesRep\"].str.split(\" \\(\").str[0]"
   ]
  },
  {
   "cell_type": "code",
   "execution_count": 19,
   "id": "41c52692-d741-41b9-ac44-670440a6e918",
   "metadata": {},
   "outputs": [
    {
     "data": {
      "text/html": [
       "<div>\n",
       "<style scoped>\n",
       "    .dataframe tbody tr th:only-of-type {\n",
       "        vertical-align: middle;\n",
       "    }\n",
       "\n",
       "    .dataframe tbody tr th {\n",
       "        vertical-align: top;\n",
       "    }\n",
       "\n",
       "    .dataframe thead th {\n",
       "        text-align: right;\n",
       "    }\n",
       "</style>\n",
       "<table border=\"1\" class=\"dataframe\">\n",
       "  <thead>\n",
       "    <tr style=\"text-align: right;\">\n",
       "      <th></th>\n",
       "      <th>Date</th>\n",
       "      <th>SalesRep</th>\n",
       "      <th>Product</th>\n",
       "      <th>Units</th>\n",
       "      <th>Price</th>\n",
       "      <th>Total Sales</th>\n",
       "      <th>City</th>\n",
       "      <th>Region</th>\n",
       "    </tr>\n",
       "  </thead>\n",
       "  <tbody>\n",
       "    <tr>\n",
       "      <th>0</th>\n",
       "      <td>2013-01-01</td>\n",
       "      <td>Isabel  Cross</td>\n",
       "      <td>Nestle Aero Mint Potz</td>\n",
       "      <td>4</td>\n",
       "      <td>495</td>\n",
       "      <td>1980</td>\n",
       "      <td>Ranchi</td>\n",
       "      <td>East</td>\n",
       "    </tr>\n",
       "    <tr>\n",
       "      <th>1</th>\n",
       "      <td>2013-01-02</td>\n",
       "      <td>Cecilia  Manning</td>\n",
       "      <td>Nestle Smarties Pop-Up</td>\n",
       "      <td>2</td>\n",
       "      <td>438</td>\n",
       "      <td>876</td>\n",
       "      <td>Trivandrum</td>\n",
       "      <td>South</td>\n",
       "    </tr>\n",
       "    <tr>\n",
       "      <th>2</th>\n",
       "      <td>2013-01-02</td>\n",
       "      <td>Isabel  Cross</td>\n",
       "      <td>Nestle Maxibon Cookie</td>\n",
       "      <td>1</td>\n",
       "      <td>426</td>\n",
       "      <td>426</td>\n",
       "      <td>Ranchi</td>\n",
       "      <td>East</td>\n",
       "    </tr>\n",
       "    <tr>\n",
       "      <th>3</th>\n",
       "      <td>2013-01-02</td>\n",
       "      <td>Shari  Silva</td>\n",
       "      <td>Nestle Maxibon Cookie</td>\n",
       "      <td>2</td>\n",
       "      <td>260</td>\n",
       "      <td>520</td>\n",
       "      <td>Mysore</td>\n",
       "      <td>South</td>\n",
       "    </tr>\n",
       "    <tr>\n",
       "      <th>4</th>\n",
       "      <td>2013-01-02</td>\n",
       "      <td>Trevor  Jones</td>\n",
       "      <td>Nestle Toffee Crumble</td>\n",
       "      <td>4</td>\n",
       "      <td>285</td>\n",
       "      <td>1140</td>\n",
       "      <td>Pune</td>\n",
       "      <td>West</td>\n",
       "    </tr>\n",
       "  </tbody>\n",
       "</table>\n",
       "</div>"
      ],
      "text/plain": [
       "         Date          SalesRep                      Product Units Price  \\\n",
       "0  2013-01-01     Isabel  Cross        Nestle Aero Mint Potz     4   495   \n",
       "1  2013-01-02  Cecilia  Manning       Nestle Smarties Pop-Up     2   438   \n",
       "2  2013-01-02     Isabel  Cross        Nestle Maxibon Cookie     1   426   \n",
       "3  2013-01-02      Shari  Silva        Nestle Maxibon Cookie     2   260   \n",
       "4  2013-01-02     Trevor  Jones        Nestle Toffee Crumble     4   285   \n",
       "\n",
       "  Total Sales        City Region  \n",
       "0        1980      Ranchi   East  \n",
       "1         876  Trivandrum  South  \n",
       "2         426      Ranchi   East  \n",
       "3         520      Mysore  South  \n",
       "4        1140        Pune   West  "
      ]
     },
     "execution_count": 19,
     "metadata": {},
     "output_type": "execute_result"
    }
   ],
   "source": [
    "df.head()"
   ]
  },
  {
   "cell_type": "code",
   "execution_count": 20,
   "id": "fd718335-5e0e-472e-84cf-1f87e4b3a967",
   "metadata": {},
   "outputs": [
    {
     "name": "stdout",
     "output_type": "stream",
     "text": [
      "<class 'pandas.core.frame.DataFrame'>\n",
      "RangeIndex: 10000 entries, 0 to 9999\n",
      "Data columns (total 8 columns):\n",
      " #   Column       Non-Null Count  Dtype \n",
      "---  ------       --------------  ----- \n",
      " 0   Date         10000 non-null  object\n",
      " 1   SalesRep     10000 non-null  object\n",
      " 2   Product      10000 non-null  object\n",
      " 3   Units        10000 non-null  object\n",
      " 4   Price        10000 non-null  object\n",
      " 5   Total Sales  10000 non-null  object\n",
      " 6   City         10000 non-null  object\n",
      " 7   Region       10000 non-null  object\n",
      "dtypes: object(8)\n",
      "memory usage: 625.1+ KB\n"
     ]
    }
   ],
   "source": [
    "df.info()"
   ]
  },
  {
   "cell_type": "code",
   "execution_count": 21,
   "id": "ec05c4c1-84d2-4827-a36c-38ea6b60efba",
   "metadata": {},
   "outputs": [],
   "source": [
    "# converting the columns to their appropirate datatype\n",
    "for i in [\"Units\", \"Price\", \"Total Sales\"]:\n",
    "    df[i] = pd.to_numeric( df[i] )"
   ]
  },
  {
   "cell_type": "code",
   "execution_count": 22,
   "id": "99e1e092-bdc1-4865-a675-8cc85d878476",
   "metadata": {},
   "outputs": [],
   "source": [
    "# converting the column to its appropirate datatype\n",
    "\n",
    "df[\"Date\"] = pd.to_datetime(df[\"Date\"])"
   ]
  },
  {
   "cell_type": "code",
   "execution_count": 23,
   "id": "c8841310-09dc-4a70-aa89-ff9c0188bed8",
   "metadata": {},
   "outputs": [
    {
     "name": "stdout",
     "output_type": "stream",
     "text": [
      "<class 'pandas.core.frame.DataFrame'>\n",
      "RangeIndex: 10000 entries, 0 to 9999\n",
      "Data columns (total 8 columns):\n",
      " #   Column       Non-Null Count  Dtype         \n",
      "---  ------       --------------  -----         \n",
      " 0   Date         10000 non-null  datetime64[ns]\n",
      " 1   SalesRep     10000 non-null  object        \n",
      " 2   Product      10000 non-null  object        \n",
      " 3   Units        10000 non-null  int64         \n",
      " 4   Price        10000 non-null  int64         \n",
      " 5   Total Sales  10000 non-null  int64         \n",
      " 6   City         10000 non-null  object        \n",
      " 7   Region       10000 non-null  object        \n",
      "dtypes: datetime64[ns](1), int64(3), object(4)\n",
      "memory usage: 625.1+ KB\n"
     ]
    }
   ],
   "source": [
    "df.info()"
   ]
  },
  {
   "cell_type": "code",
   "execution_count": 24,
   "id": "8c41fc29-36b0-4e97-8885-eaaf8ca6f1e0",
   "metadata": {},
   "outputs": [
    {
     "data": {
      "text/html": [
       "<div>\n",
       "<style scoped>\n",
       "    .dataframe tbody tr th:only-of-type {\n",
       "        vertical-align: middle;\n",
       "    }\n",
       "\n",
       "    .dataframe tbody tr th {\n",
       "        vertical-align: top;\n",
       "    }\n",
       "\n",
       "    .dataframe thead th {\n",
       "        text-align: right;\n",
       "    }\n",
       "</style>\n",
       "<table border=\"1\" class=\"dataframe\">\n",
       "  <thead>\n",
       "    <tr style=\"text-align: right;\">\n",
       "      <th></th>\n",
       "      <th>Date</th>\n",
       "      <th>SalesRep</th>\n",
       "      <th>Product</th>\n",
       "      <th>Units</th>\n",
       "      <th>Price</th>\n",
       "      <th>Total Sales</th>\n",
       "      <th>City</th>\n",
       "      <th>Region</th>\n",
       "    </tr>\n",
       "  </thead>\n",
       "  <tbody>\n",
       "    <tr>\n",
       "      <th>0</th>\n",
       "      <td>2013-01-01</td>\n",
       "      <td>Isabel  Cross</td>\n",
       "      <td>Nestle Aero Mint Potz</td>\n",
       "      <td>4</td>\n",
       "      <td>495</td>\n",
       "      <td>1980</td>\n",
       "      <td>Ranchi</td>\n",
       "      <td>East</td>\n",
       "    </tr>\n",
       "    <tr>\n",
       "      <th>1</th>\n",
       "      <td>2013-01-02</td>\n",
       "      <td>Cecilia  Manning</td>\n",
       "      <td>Nestle Smarties Pop-Up</td>\n",
       "      <td>2</td>\n",
       "      <td>438</td>\n",
       "      <td>876</td>\n",
       "      <td>Trivandrum</td>\n",
       "      <td>South</td>\n",
       "    </tr>\n",
       "    <tr>\n",
       "      <th>2</th>\n",
       "      <td>2013-01-02</td>\n",
       "      <td>Isabel  Cross</td>\n",
       "      <td>Nestle Maxibon Cookie</td>\n",
       "      <td>1</td>\n",
       "      <td>426</td>\n",
       "      <td>426</td>\n",
       "      <td>Ranchi</td>\n",
       "      <td>East</td>\n",
       "    </tr>\n",
       "    <tr>\n",
       "      <th>3</th>\n",
       "      <td>2013-01-02</td>\n",
       "      <td>Shari  Silva</td>\n",
       "      <td>Nestle Maxibon Cookie</td>\n",
       "      <td>2</td>\n",
       "      <td>260</td>\n",
       "      <td>520</td>\n",
       "      <td>Mysore</td>\n",
       "      <td>South</td>\n",
       "    </tr>\n",
       "    <tr>\n",
       "      <th>4</th>\n",
       "      <td>2013-01-02</td>\n",
       "      <td>Trevor  Jones</td>\n",
       "      <td>Nestle Toffee Crumble</td>\n",
       "      <td>4</td>\n",
       "      <td>285</td>\n",
       "      <td>1140</td>\n",
       "      <td>Pune</td>\n",
       "      <td>West</td>\n",
       "    </tr>\n",
       "  </tbody>\n",
       "</table>\n",
       "</div>"
      ],
      "text/plain": [
       "        Date          SalesRep                      Product  Units  Price  \\\n",
       "0 2013-01-01     Isabel  Cross        Nestle Aero Mint Potz      4    495   \n",
       "1 2013-01-02  Cecilia  Manning       Nestle Smarties Pop-Up      2    438   \n",
       "2 2013-01-02     Isabel  Cross        Nestle Maxibon Cookie      1    426   \n",
       "3 2013-01-02      Shari  Silva        Nestle Maxibon Cookie      2    260   \n",
       "4 2013-01-02     Trevor  Jones        Nestle Toffee Crumble      4    285   \n",
       "\n",
       "   Total Sales        City Region  \n",
       "0         1980      Ranchi   East  \n",
       "1          876  Trivandrum  South  \n",
       "2          426      Ranchi   East  \n",
       "3          520      Mysore  South  \n",
       "4         1140        Pune   West  "
      ]
     },
     "execution_count": 24,
     "metadata": {},
     "output_type": "execute_result"
    }
   ],
   "source": [
    "# Final output after performing data cleaning on excel file\n",
    "df.head()"
   ]
  }
 ],
 "metadata": {
  "kernelspec": {
   "display_name": "Python 3 (ipykernel)",
   "language": "python",
   "name": "python3"
  },
  "language_info": {
   "codemirror_mode": {
    "name": "ipython",
    "version": 3
   },
   "file_extension": ".py",
   "mimetype": "text/x-python",
   "name": "python",
   "nbconvert_exporter": "python",
   "pygments_lexer": "ipython3",
   "version": "3.12.0"
  }
 },
 "nbformat": 4,
 "nbformat_minor": 5
}
